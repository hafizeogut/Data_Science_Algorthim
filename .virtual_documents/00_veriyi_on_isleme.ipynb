














import seaborn as sns

# 'diamonds' veri setini Seaborn kütüphanesinden yükle
df = sns.load_dataset('diamonds')

# Sadece 'float64' ve 'int64' veri tipine sahip sütunları seç
df = df.select_dtypes(include=['float64', 'int64'])

# Veri setinden herhangi bir eksik değere (NaN) sahip olan satırları çıkar
df = df.dropna()

# İlk 5 satırı görüntüle
df.head()


df_table = df["table"] #Table sütunun seç


df_table.head() #ilk 5 gözleme ulaş


sns.boxplot(x = df_table); #Boxplot yöntemi ile aykırı verileri tespit et


Q1 = df_table.quantile(0.25)
Q3 = df_table.quantile(0.75)
IQR = Q3 - Q1


Q1


Q3


IQR


alt_sinir = Q1 - 1.5 * IQR
ust_sinir = Q3 + 1.5 * IQR


alt_sinir


ust_sinir


(df_table < alt_sinir ) | (df_table > ust_sinir )


aykiri_tf = df_table < alt_sinir 


aykiri_tf.head()


df_table[aykiri_tf]


df_table[aykiri_tf].index


import pandas as pd


type(df_table)


df_table = pd.DataFrame(df_table)


df_table.shape


t_df = df_table[~(((df_table < alt_sinir) |(df_table > ust_sinir)))] #aykırı olmayan değerler alınıyor
