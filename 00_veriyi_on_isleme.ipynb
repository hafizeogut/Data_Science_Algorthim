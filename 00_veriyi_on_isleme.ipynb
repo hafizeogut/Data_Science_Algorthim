{
 "cells": [
  {
   "cell_type": "markdown",
   "id": "45f003e4-df11-4282-8d07-ae6064307a76",
   "metadata": {},
   "source": [
    "# Veri Temizleme (Data Cleaning/Cleasing)\n",
    "### Gürültülü Veri (Noisy Data)\n",
    "### Eksik Veri Analizi (Misssing Data Analysis)\n",
    "### Aykırı Gözlem Analizi (Outlier Analysis)"
   ]
  },
  {
   "cell_type": "markdown",
   "id": "74ea1289-4e72-4f24-95d5-a62611984a5d",
   "metadata": {},
   "source": [
    "![Gürültülü Veri](./images/picture.png)\n",
    " Gürültü : Yanlış veriler\n",
    "\n",
    " Bir bebek biberonun 1.000.000 TL olmsı gibi"
   ]
  },
  {
   "cell_type": "markdown",
   "id": "870c7247-6822-4990-953d-3f176bf619fb",
   "metadata": {},
   "source": [
    "# Veri Standardizasyonu(Data Standardization, Feature Scaling)\n",
    "##### 0-1 Dönüşümü (Normalization)\n",
    "##### z-skoruna Dönüştürme (Standardization)\n",
    "###### Logaritmik Dönüşüm(Log Transformation)"
   ]
  },
  {
   "cell_type": "markdown",
   "id": "7d394f31-e71f-455e-b7e1-3aa64dcff2fe",
   "metadata": {},
   "source": [
    "# Veri İndirgeme (Data Reducation)\n",
    "#### Gözlem (Observation) Sayısının Azaltılması\n",
    "#### Değişken (Variable) Sayısının azaltılması "
   ]
  },
  {
   "cell_type": "markdown",
   "id": "3a3b731f-d748-4aa4-a321-f60d4b02d11c",
   "metadata": {},
   "source": [
    "# Değişken Dönüşümleri (Variable Transformation)\n",
    "#### Sürekli değişkenlerde dönüşümler\n",
    "### Kategorik değişkenlerde dönüşümler"
   ]
  },
  {
   "cell_type": "code",
   "execution_count": 3,
   "id": "e3aa6f5d-878f-4e9e-8aa4-0b59750a2867",
   "metadata": {},
   "outputs": [
    {
     "data": {
      "text/html": [
       "<div>\n",
       "<style scoped>\n",
       "    .dataframe tbody tr th:only-of-type {\n",
       "        vertical-align: middle;\n",
       "    }\n",
       "\n",
       "    .dataframe tbody tr th {\n",
       "        vertical-align: top;\n",
       "    }\n",
       "\n",
       "    .dataframe thead th {\n",
       "        text-align: right;\n",
       "    }\n",
       "</style>\n",
       "<table border=\"1\" class=\"dataframe\">\n",
       "  <thead>\n",
       "    <tr style=\"text-align: right;\">\n",
       "      <th></th>\n",
       "      <th>carat</th>\n",
       "      <th>depth</th>\n",
       "      <th>table</th>\n",
       "      <th>price</th>\n",
       "      <th>x</th>\n",
       "      <th>y</th>\n",
       "      <th>z</th>\n",
       "    </tr>\n",
       "  </thead>\n",
       "  <tbody>\n",
       "    <tr>\n",
       "      <th>0</th>\n",
       "      <td>0.23</td>\n",
       "      <td>61.5</td>\n",
       "      <td>55.0</td>\n",
       "      <td>326</td>\n",
       "      <td>3.95</td>\n",
       "      <td>3.98</td>\n",
       "      <td>2.43</td>\n",
       "    </tr>\n",
       "    <tr>\n",
       "      <th>1</th>\n",
       "      <td>0.21</td>\n",
       "      <td>59.8</td>\n",
       "      <td>61.0</td>\n",
       "      <td>326</td>\n",
       "      <td>3.89</td>\n",
       "      <td>3.84</td>\n",
       "      <td>2.31</td>\n",
       "    </tr>\n",
       "    <tr>\n",
       "      <th>2</th>\n",
       "      <td>0.23</td>\n",
       "      <td>56.9</td>\n",
       "      <td>65.0</td>\n",
       "      <td>327</td>\n",
       "      <td>4.05</td>\n",
       "      <td>4.07</td>\n",
       "      <td>2.31</td>\n",
       "    </tr>\n",
       "    <tr>\n",
       "      <th>3</th>\n",
       "      <td>0.29</td>\n",
       "      <td>62.4</td>\n",
       "      <td>58.0</td>\n",
       "      <td>334</td>\n",
       "      <td>4.20</td>\n",
       "      <td>4.23</td>\n",
       "      <td>2.63</td>\n",
       "    </tr>\n",
       "    <tr>\n",
       "      <th>4</th>\n",
       "      <td>0.31</td>\n",
       "      <td>63.3</td>\n",
       "      <td>58.0</td>\n",
       "      <td>335</td>\n",
       "      <td>4.34</td>\n",
       "      <td>4.35</td>\n",
       "      <td>2.75</td>\n",
       "    </tr>\n",
       "  </tbody>\n",
       "</table>\n",
       "</div>"
      ],
      "text/plain": [
       "   carat  depth  table  price     x     y     z\n",
       "0   0.23   61.5   55.0    326  3.95  3.98  2.43\n",
       "1   0.21   59.8   61.0    326  3.89  3.84  2.31\n",
       "2   0.23   56.9   65.0    327  4.05  4.07  2.31\n",
       "3   0.29   62.4   58.0    334  4.20  4.23  2.63\n",
       "4   0.31   63.3   58.0    335  4.34  4.35  2.75"
      ]
     },
     "execution_count": 3,
     "metadata": {},
     "output_type": "execute_result"
    }
   ],
   "source": [
    "import seaborn as sns\n",
    "\n",
    "# 'diamonds' veri setini Seaborn kütüphanesinden yükle\n",
    "df = sns.load_dataset('diamonds')\n",
    "\n",
    "# Sadece 'float64' ve 'int64' veri tipine sahip sütunları seç\n",
    "df = df.select_dtypes(include=['float64', 'int64'])\n",
    "\n",
    "# Veri setinden herhangi bir eksik değere (NaN) sahip olan satırları çıkar\n",
    "df = df.dropna()\n",
    "\n",
    "# İlk 5 satırı görüntüle\n",
    "df.head()"
   ]
  },
  {
   "cell_type": "code",
   "execution_count": 4,
   "id": "676e6c4c-5e0e-4ea7-96b5-39877c668bf4",
   "metadata": {},
   "outputs": [],
   "source": [
    "df_table = df[\"table\"] #Table sütunun seç"
   ]
  },
  {
   "cell_type": "code",
   "execution_count": 7,
   "id": "0c31c04d-12a1-47e7-9915-49c623a0320b",
   "metadata": {},
   "outputs": [
    {
     "data": {
      "text/plain": [
       "0    55.0\n",
       "1    61.0\n",
       "2    65.0\n",
       "3    58.0\n",
       "4    58.0\n",
       "Name: table, dtype: float64"
      ]
     },
     "execution_count": 7,
     "metadata": {},
     "output_type": "execute_result"
    }
   ],
   "source": [
    "df_table.head() #ilk 5 gözleme ulaş"
   ]
  },
  {
   "cell_type": "code",
   "execution_count": 9,
   "id": "d26ee671-d6c4-4d8d-a74a-f8457cf7b0ef",
   "metadata": {},
   "outputs": [
    {
     "data": {
      "image/png": "[encoded data removed]",
      "text/plain": [
       "<Figure size 640x480 with 1 Axes>"
      ]
     },
     "metadata": {},
     "output_type": "display_data"
    }
   ],
   "source": [
    "sns.boxplot(x = df_table); #Boxplot yöntemi ile aykırı verileri tespit et"
   ]
  },
  {
   "cell_type": "code",
   "execution_count": 11,
   "id": "d66f55e1-8556-43ce-810f-50136d82c21c",
   "metadata": {},
   "outputs": [],
   "source": [
    "Q1 = df_table.quantile(0.25)\n",
    "Q3 = df_table.quantile(0.75)\n",
    "IQR = Q3 - Q1"
   ]
  },
  {
   "cell_type": "code",
   "execution_count": 13,
   "id": "367d9f02-62b3-46c9-95d1-71b3437d2127",
   "metadata": {},
   "outputs": [
    {
     "data": {
      "text/plain": [
       "56.0"
      ]
     },
     "execution_count": 13,
     "metadata": {},
     "output_type": "execute_result"
    }
   ],
   "source": [
    "Q1"
   ]
  },
  {
   "cell_type": "code",
   "execution_count": 22,
   "id": "0bee7245-e4cc-49ea-9d77-f9e78a23ac87",
   "metadata": {},
   "outputs": [
    {
     "data": {
      "text/plain": [
       "59.0"
      ]
     },
     "execution_count": 22,
     "metadata": {},
     "output_type": "execute_result"
    }
   ],
   "source": [
    "Q3"
   ]
  },
  {
   "cell_type": "code",
   "execution_count": 24,
   "id": "d43b45d0-2707-42e2-a250-54c02c48ef45",
   "metadata": {},
   "outputs": [
    {
     "data": {
      "text/plain": [
       "3.0"
      ]
     },
     "execution_count": 24,
     "metadata": {},
     "output_type": "execute_result"
    }
   ],
   "source": [
    "IQR"
   ]
  },
  {
   "cell_type": "code",
   "execution_count": 46,
   "id": "51be1b80-f71d-4a5f-855c-e8c7b5184ded",
   "metadata": {},
   "outputs": [],
   "source": [
    "alt_sinir = Q1 - 1.5 * IQR\n",
    "ust_sinir = Q3 + 1.5 * IQR"
   ]
  },
  {
   "cell_type": "code",
   "execution_count": 42,
   "id": "35f91430-40d0-4dc4-80f0-6c4cf3e7a13e",
   "metadata": {},
   "outputs": [
    {
     "data": {
      "text/plain": [
       "51.5"
      ]
     },
     "execution_count": 42,
     "metadata": {},
     "output_type": "execute_result"
    }
   ],
   "source": [
    "alt_sinir"
   ]
  },
  {
   "cell_type": "code",
   "execution_count": 44,
   "id": "b4a621fb-783d-4674-b19c-28986943863b",
   "metadata": {},
   "outputs": [
    {
     "data": {
      "text/plain": [
       "60.5"
      ]
     },
     "execution_count": 44,
     "metadata": {},
     "output_type": "execute_result"
    }
   ],
   "source": [
    "ust_sinir"
   ]
  },
  {
   "cell_type": "code",
   "execution_count": 54,
   "id": "b340710a-9683-47f9-8f6b-c411b23d44d5",
   "metadata": {},
   "outputs": [
    {
     "data": {
      "text/plain": [
       "0        False\n",
       "1        False\n",
       "2         True\n",
       "3        False\n",
       "4        False\n",
       "         ...  \n",
       "53935    False\n",
       "53936    False\n",
       "53937    False\n",
       "53938    False\n",
       "53939    False\n",
       "Name: table, Length: 53940, dtype: bool"
      ]
     },
     "execution_count": 54,
     "metadata": {},
     "output_type": "execute_result"
    }
   ],
   "source": [
    "(df_table < alt_sinir ) | (df_table > ust_sinir )"
   ]
  },
  {
   "cell_type": "code",
   "execution_count": 56,
   "id": "ca27e7cb-7027-4071-9c2f-f8e9f9d37a65",
   "metadata": {},
   "outputs": [],
   "source": [
    "aykiri_tf = df_table < alt_sinir "
   ]
  },
  {
   "cell_type": "code",
   "execution_count": 58,
   "id": "cc7cd6bd-0fc2-443a-af99-804c1581de1b",
   "metadata": {},
   "outputs": [
    {
     "data": {
      "text/plain": [
       "0    False\n",
       "1    False\n",
       "2    False\n",
       "3    False\n",
       "4    False\n",
       "Name: table, dtype: bool"
      ]
     },
     "execution_count": 58,
     "metadata": {},
     "output_type": "execute_result"
    }
   ],
   "source": [
    "aykiri_tf.head()"
   ]
  },
  {
   "cell_type": "code",
   "execution_count": 62,
   "id": "e2ff886a-57b0-434b-a746-5827c86a9b32",
   "metadata": {},
   "outputs": [
    {
     "data": {
      "text/plain": [
       "1515     51.0\n",
       "3238     50.1\n",
       "3979     51.0\n",
       "4150     51.0\n",
       "5979     49.0\n",
       "7418     50.0\n",
       "8853     51.0\n",
       "11368    43.0\n",
       "22701    49.0\n",
       "25179    50.0\n",
       "26387    51.0\n",
       "33586    51.0\n",
       "35633    44.0\n",
       "45798    51.0\n",
       "46040    51.0\n",
       "47630    51.0\n",
       "Name: table, dtype: float64"
      ]
     },
     "execution_count": 62,
     "metadata": {},
     "output_type": "execute_result"
    }
   ],
   "source": [
    "df_table[aykiri_tf]"
   ]
  },
  {
   "cell_type": "code",
   "execution_count": 64,
   "id": "223c6e10-91ba-4c6e-aaf4-f4be0d0e0804",
   "metadata": {},
   "outputs": [
    {
     "data": {
      "text/plain": [
       "Index([ 1515,  3238,  3979,  4150,  5979,  7418,  8853, 11368, 22701, 25179,\n",
       "       26387, 33586, 35633, 45798, 46040, 47630],\n",
       "      dtype='int64')"
      ]
     },
     "execution_count": 64,
     "metadata": {},
     "output_type": "execute_result"
    }
   ],
   "source": [
    "df_table[aykiri_tf].index"
   ]
  },
  {
   "cell_type": "code",
   "execution_count": null,
   "id": "f8e173c1-fef2-445d-a440-3a5f9540199e",
   "metadata": {},
   "outputs": [],
   "source": []
  }
 ],
 "metadata": {
  "kernelspec": {
   "display_name": "Python 3 (ipykernel)",
   "language": "python",
   "name": "python3"
  },
  "language_info": {
   "codemirror_mode": {
    "name": "ipython",
    "version": 3
   },
   "file_extension": ".py",
   "mimetype": "text/x-python",
   "name": "python",
   "nbconvert_exporter": "python",
   "pygments_lexer": "ipython3",
   "version": "3.12.4"
  }
 },
 "nbformat": 4,
 "nbformat_minor": 5
}
